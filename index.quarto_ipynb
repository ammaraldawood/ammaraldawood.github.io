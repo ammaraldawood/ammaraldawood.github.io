{
 "cells": [
  {
   "cell_type": "markdown",
   "id": "a9f499a8",
   "metadata": {},
   "source": [
    "---\n",
    "title: \"Ahlan to Affluent Ammar's Almanac!\"\n",
    "about:\n",
    "  template: marquee\n",
    "  image: gimme.png\n",
    "  links:\n",
    "      - icon: github\n",
    "        href: https://github.com/ammaraldawood\n",
    "        target: _blank\n",
    "      - icon: linkedin\n",
    "        href: https://www.linkedin.com/in/ammar-aldawood/\n",
    "        target: _blank\n",
    "      - icon: envelope-at-fill\n",
    "        href: mailto:aldawoodammar@gmail.com\n",
    "        target: _blank\n",
    "---\n",
    "\n",
    "```{html}\n",
    "<div class=\"d-flex justify-content-center gap-3\">\n",
    "  <a href=\"/blog/posts/2025-07-05.html\" class=\"text-decoration-none\">\n",
    "    <div class=\"card text-black mb-3\" style=\"max-width: 10rem; background-color: white;\">\n",
    "      <div class=\"card-header\">Latest Post</div>\n",
    "    </div>\n",
    "  </a>\n",
    "  <a href=\"/projects/project1.html\" class=\"text-decoration-none\">\n",
    "    <div class=\"card text-black mb-3\" style=\"max-width: 10rem; background-color: white;\">\n",
    "      <div class=\"card-header\">Latest Project</div>\n",
    "    </div>\n",
    "  </a>\n",
    "  <a href=\"/reading/readinglist.html#category=Active\" class=\"text-decoration-none\">\n",
    "    <div class=\"card text-black mb-3\" style=\"max-width: 10rem; background-color: white;\">\n",
    "      <div class=\"card-header\">Now Reading</div>\n",
    "    </div>\n",
    "  </a>\n",
    "</div>\n",
    "```"
   ]
  }
 ],
 "metadata": {
  "kernelspec": {
   "display_name": "Python 3 (ipykernel)",
   "language": "python",
   "name": "python3",
   "path": "/Library/Frameworks/Python.framework/Versions/3.12/share/jupyter/kernels/python3"
  },
  "language_info": {
   "codemirror_mode": {
    "name": "ipython",
    "version": 3
   },
   "file_extension": ".py",
   "mimetype": "text/x-python",
   "name": "python",
   "nbconvert_exporter": "python",
   "pygments_lexer": "ipython3",
   "version": "3.12.4"
  }
 },
 "nbformat": 4,
 "nbformat_minor": 5
}
